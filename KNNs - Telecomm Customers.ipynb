{
 "cells": [
  {
   "cell_type": "markdown",
   "id": "cd651d62",
   "metadata": {},
   "source": [
    "Modified and improved model performance from base code from IBM Coursera: Machine Learning with Python"
   ]
  },
  {
   "cell_type": "code",
   "execution_count": 12,
   "id": "a1691432",
   "metadata": {},
   "outputs": [],
   "source": [
    "import numpy as np\n",
    "import matplotlib.pyplot as plt\n",
    "import pandas as pd\n",
    "import numpy as np\n",
    "import seaborn as sns\n",
    "from sklearn import preprocessing\n",
    "%matplotlib inline"
   ]
  },
  {
   "cell_type": "markdown",
   "id": "39d19b36",
   "metadata": {},
   "source": [
    "## Data Collection"
   ]
  },
  {
   "cell_type": "code",
   "execution_count": 2,
   "id": "17399582",
   "metadata": {},
   "outputs": [
    {
     "data": {
      "text/plain": [
       "36047"
      ]
     },
     "execution_count": 2,
     "metadata": {},
     "output_type": "execute_result"
    }
   ],
   "source": [
    "import requests\n",
    "\n",
    "# store url of dataset\n",
    "url = 'https://cf-courses-data.s3.us.cloud-object-storage.appdomain.cloud/IBMDeveloperSkillsNetwork-ML0101EN-SkillsNetwork/labs/Module%203/data/teleCust1000t.csv'\n",
    "# Create requests variable \n",
    "r = requests.get(url, allow_redirects=True)\n",
    "# Write content of request to 'teleCust1000t.csv' file\n",
    "open('teleCust1000t.csv', 'wb').write(r.content)"
   ]
  },
  {
   "cell_type": "code",
   "execution_count": 3,
   "id": "a4d62916",
   "metadata": {},
   "outputs": [
    {
     "data": {
      "text/html": [
       "<div>\n",
       "<style scoped>\n",
       "    .dataframe tbody tr th:only-of-type {\n",
       "        vertical-align: middle;\n",
       "    }\n",
       "\n",
       "    .dataframe tbody tr th {\n",
       "        vertical-align: top;\n",
       "    }\n",
       "\n",
       "    .dataframe thead th {\n",
       "        text-align: right;\n",
       "    }\n",
       "</style>\n",
       "<table border=\"1\" class=\"dataframe\">\n",
       "  <thead>\n",
       "    <tr style=\"text-align: right;\">\n",
       "      <th></th>\n",
       "      <th>region</th>\n",
       "      <th>tenure</th>\n",
       "      <th>age</th>\n",
       "      <th>marital</th>\n",
       "      <th>address</th>\n",
       "      <th>income</th>\n",
       "      <th>ed</th>\n",
       "      <th>employ</th>\n",
       "      <th>retire</th>\n",
       "      <th>gender</th>\n",
       "      <th>reside</th>\n",
       "      <th>custcat</th>\n",
       "    </tr>\n",
       "  </thead>\n",
       "  <tbody>\n",
       "    <tr>\n",
       "      <th>0</th>\n",
       "      <td>2</td>\n",
       "      <td>13</td>\n",
       "      <td>44</td>\n",
       "      <td>1</td>\n",
       "      <td>9</td>\n",
       "      <td>64.0</td>\n",
       "      <td>4</td>\n",
       "      <td>5</td>\n",
       "      <td>0.0</td>\n",
       "      <td>0</td>\n",
       "      <td>2</td>\n",
       "      <td>1</td>\n",
       "    </tr>\n",
       "    <tr>\n",
       "      <th>1</th>\n",
       "      <td>3</td>\n",
       "      <td>11</td>\n",
       "      <td>33</td>\n",
       "      <td>1</td>\n",
       "      <td>7</td>\n",
       "      <td>136.0</td>\n",
       "      <td>5</td>\n",
       "      <td>5</td>\n",
       "      <td>0.0</td>\n",
       "      <td>0</td>\n",
       "      <td>6</td>\n",
       "      <td>4</td>\n",
       "    </tr>\n",
       "    <tr>\n",
       "      <th>2</th>\n",
       "      <td>3</td>\n",
       "      <td>68</td>\n",
       "      <td>52</td>\n",
       "      <td>1</td>\n",
       "      <td>24</td>\n",
       "      <td>116.0</td>\n",
       "      <td>1</td>\n",
       "      <td>29</td>\n",
       "      <td>0.0</td>\n",
       "      <td>1</td>\n",
       "      <td>2</td>\n",
       "      <td>3</td>\n",
       "    </tr>\n",
       "    <tr>\n",
       "      <th>3</th>\n",
       "      <td>2</td>\n",
       "      <td>33</td>\n",
       "      <td>33</td>\n",
       "      <td>0</td>\n",
       "      <td>12</td>\n",
       "      <td>33.0</td>\n",
       "      <td>2</td>\n",
       "      <td>0</td>\n",
       "      <td>0.0</td>\n",
       "      <td>1</td>\n",
       "      <td>1</td>\n",
       "      <td>1</td>\n",
       "    </tr>\n",
       "    <tr>\n",
       "      <th>4</th>\n",
       "      <td>2</td>\n",
       "      <td>23</td>\n",
       "      <td>30</td>\n",
       "      <td>1</td>\n",
       "      <td>9</td>\n",
       "      <td>30.0</td>\n",
       "      <td>1</td>\n",
       "      <td>2</td>\n",
       "      <td>0.0</td>\n",
       "      <td>0</td>\n",
       "      <td>4</td>\n",
       "      <td>3</td>\n",
       "    </tr>\n",
       "  </tbody>\n",
       "</table>\n",
       "</div>"
      ],
      "text/plain": [
       "   region  tenure  age  marital  address  income  ed  employ  retire  gender  \\\n",
       "0       2      13   44        1        9    64.0   4       5     0.0       0   \n",
       "1       3      11   33        1        7   136.0   5       5     0.0       0   \n",
       "2       3      68   52        1       24   116.0   1      29     0.0       1   \n",
       "3       2      33   33        0       12    33.0   2       0     0.0       1   \n",
       "4       2      23   30        1        9    30.0   1       2     0.0       0   \n",
       "\n",
       "   reside  custcat  \n",
       "0       2        1  \n",
       "1       6        4  \n",
       "2       2        3  \n",
       "3       1        1  \n",
       "4       4        3  "
      ]
     },
     "execution_count": 3,
     "metadata": {},
     "output_type": "execute_result"
    }
   ],
   "source": [
    "df = pd.read_csv(\"teleCust1000t.csv\")\n",
    "\n",
    "# take a look at the dataset\n",
    "df.head()"
   ]
  },
  {
   "cell_type": "markdown",
   "id": "d3a850b4",
   "metadata": {},
   "source": [
    "## Exploratory Data Analysis"
   ]
  },
  {
   "cell_type": "code",
   "execution_count": 4,
   "id": "a2067e36",
   "metadata": {},
   "outputs": [
    {
     "data": {
      "text/plain": [
       "3    281\n",
       "1    266\n",
       "4    236\n",
       "2    217\n",
       "Name: custcat, dtype: int64"
      ]
     },
     "execution_count": 4,
     "metadata": {},
     "output_type": "execute_result"
    }
   ],
   "source": [
    "bar_df = df['custcat'].value_counts()\n",
    "bar_df"
   ]
  },
  {
   "cell_type": "markdown",
   "id": "fbc85205",
   "metadata": {},
   "source": [
    "Categories:\n",
    "1 - Basic Service\n",
    "2 - E-Service\n",
    "3 - Plus Service\n",
    "4 - Total Service"
   ]
  },
  {
   "cell_type": "code",
   "execution_count": 5,
   "id": "58631835",
   "metadata": {},
   "outputs": [
    {
     "data": {
      "text/plain": [
       "<AxesSubplot:>"
      ]
     },
     "execution_count": 5,
     "metadata": {},
     "output_type": "execute_result"
    },
    {
     "data": {
      "image/png": "[encoded data removed]",
      "text/plain": [
       "<Figure size 432x288 with 1 Axes>"
      ]
     },
     "metadata": {
      "needs_background": "light"
     },
     "output_type": "display_data"
    }
   ],
   "source": [
    "bar_df.plot.bar(rot=0)"
   ]
  },
  {
   "cell_type": "markdown",
   "id": "7395bd6e",
   "metadata": {},
   "source": [
    "#### Check columns / isna values"
   ]
  },
  {
   "cell_type": "code",
   "execution_count": 7,
   "id": "36c2f338",
   "metadata": {},
   "outputs": [
    {
     "data": {
      "text/plain": [
       "income     218\n",
       "tenure      72\n",
       "age         60\n",
       "address     50\n",
       "employ      46\n",
       "reside       8\n",
       "ed           5\n",
       "custcat      4\n",
       "region       3\n",
       "marital      2\n",
       "retire       2\n",
       "gender       2\n",
       "dtype: int64"
      ]
     },
     "execution_count": 7,
     "metadata": {},
     "output_type": "execute_result"
    }
   ],
   "source": [
    "df.nunique().sort_values(ascending=False)"
   ]
  },
  {
   "cell_type": "code",
   "execution_count": 9,
   "id": "631f6ec2",
   "metadata": {},
   "outputs": [
    {
     "data": {
      "text/html": [
       "<style  type=\"text/css\" >\n",
       "#T_a0cfe_row0_col0,#T_a0cfe_row0_col1,#T_a0cfe_row1_col0,#T_a0cfe_row1_col1,#T_a0cfe_row2_col0,#T_a0cfe_row2_col1,#T_a0cfe_row3_col1,#T_a0cfe_row4_col1,#T_a0cfe_row5_col1,#T_a0cfe_row6_col1,#T_a0cfe_row7_col1,#T_a0cfe_row8_col1,#T_a0cfe_row9_col1,#T_a0cfe_row10_col1,#T_a0cfe_row11_col1{\n",
       "            width:  10em;\n",
       "             height:  80%;\n",
       "        }#T_a0cfe_row3_col0{\n",
       "            width:  10em;\n",
       "             height:  80%;\n",
       "            background:  linear-gradient(90deg,#d65f5f 0.5%, transparent 0.5%);\n",
       "        }#T_a0cfe_row4_col0{\n",
       "            width:  10em;\n",
       "             height:  80%;\n",
       "            background:  linear-gradient(90deg,#d65f5f 0.9%, transparent 0.9%);\n",
       "        }#T_a0cfe_row5_col0{\n",
       "            width:  10em;\n",
       "             height:  80%;\n",
       "            background:  linear-gradient(90deg,#d65f5f 1.4%, transparent 1.4%);\n",
       "        }#T_a0cfe_row6_col0{\n",
       "            width:  10em;\n",
       "             height:  80%;\n",
       "            background:  linear-gradient(90deg,#d65f5f 2.8%, transparent 2.8%);\n",
       "        }#T_a0cfe_row7_col0{\n",
       "            width:  10em;\n",
       "             height:  80%;\n",
       "            background:  linear-gradient(90deg,#d65f5f 20.4%, transparent 20.4%);\n",
       "        }#T_a0cfe_row8_col0{\n",
       "            width:  10em;\n",
       "             height:  80%;\n",
       "            background:  linear-gradient(90deg,#d65f5f 22.2%, transparent 22.2%);\n",
       "        }#T_a0cfe_row9_col0{\n",
       "            width:  10em;\n",
       "             height:  80%;\n",
       "            background:  linear-gradient(90deg,#d65f5f 26.9%, transparent 26.9%);\n",
       "        }#T_a0cfe_row10_col0{\n",
       "            width:  10em;\n",
       "             height:  80%;\n",
       "            background:  linear-gradient(90deg,#d65f5f 32.4%, transparent 32.4%);\n",
       "        }#T_a0cfe_row11_col0{\n",
       "            width:  10em;\n",
       "             height:  80%;\n",
       "            background:  linear-gradient(90deg,#d65f5f 100.0%, transparent 100.0%);\n",
       "        }</style><table id=\"T_a0cfe_\" ><thead>    <tr>        <th class=\"blank level0\" ></th>        <th class=\"col_heading level0 col0\" >nunique</th>        <th class=\"col_heading level0 col1\" >isna</th>        <th class=\"col_heading level0 col2\" >type</th>    </tr></thead><tbody>\n",
       "                <tr>\n",
       "                        <th id=\"T_a0cfe_level0_row0\" class=\"row_heading level0 row0\" >marital</th>\n",
       "                        <td id=\"T_a0cfe_row0_col0\" class=\"data row0 col0\" >2</td>\n",
       "                        <td id=\"T_a0cfe_row0_col1\" class=\"data row0 col1\" >0</td>\n",
       "                        <td id=\"T_a0cfe_row0_col2\" class=\"data row0 col2\" >int64</td>\n",
       "            </tr>\n",
       "            <tr>\n",
       "                        <th id=\"T_a0cfe_level0_row1\" class=\"row_heading level0 row1\" >retire</th>\n",
       "                        <td id=\"T_a0cfe_row1_col0\" class=\"data row1 col0\" >2</td>\n",
       "                        <td id=\"T_a0cfe_row1_col1\" class=\"data row1 col1\" >0</td>\n",
       "                        <td id=\"T_a0cfe_row1_col2\" class=\"data row1 col2\" >float64</td>\n",
       "            </tr>\n",
       "            <tr>\n",
       "                        <th id=\"T_a0cfe_level0_row2\" class=\"row_heading level0 row2\" >gender</th>\n",
       "                        <td id=\"T_a0cfe_row2_col0\" class=\"data row2 col0\" >2</td>\n",
       "                        <td id=\"T_a0cfe_row2_col1\" class=\"data row2 col1\" >0</td>\n",
       "                        <td id=\"T_a0cfe_row2_col2\" class=\"data row2 col2\" >int64</td>\n",
       "            </tr>\n",
       "            <tr>\n",
       "                        <th id=\"T_a0cfe_level0_row3\" class=\"row_heading level0 row3\" >region</th>\n",
       "                        <td id=\"T_a0cfe_row3_col0\" class=\"data row3 col0\" >3</td>\n",
       "                        <td id=\"T_a0cfe_row3_col1\" class=\"data row3 col1\" >0</td>\n",
       "                        <td id=\"T_a0cfe_row3_col2\" class=\"data row3 col2\" >int64</td>\n",
       "            </tr>\n",
       "            <tr>\n",
       "                        <th id=\"T_a0cfe_level0_row4\" class=\"row_heading level0 row4\" >custcat</th>\n",
       "                        <td id=\"T_a0cfe_row4_col0\" class=\"data row4 col0\" >4</td>\n",
       "                        <td id=\"T_a0cfe_row4_col1\" class=\"data row4 col1\" >0</td>\n",
       "                        <td id=\"T_a0cfe_row4_col2\" class=\"data row4 col2\" >int64</td>\n",
       "            </tr>\n",
       "            <tr>\n",
       "                        <th id=\"T_a0cfe_level0_row5\" class=\"row_heading level0 row5\" >ed</th>\n",
       "                        <td id=\"T_a0cfe_row5_col0\" class=\"data row5 col0\" >5</td>\n",
       "                        <td id=\"T_a0cfe_row5_col1\" class=\"data row5 col1\" >0</td>\n",
       "                        <td id=\"T_a0cfe_row5_col2\" class=\"data row5 col2\" >int64</td>\n",
       "            </tr>\n",
       "            <tr>\n",
       "                        <th id=\"T_a0cfe_level0_row6\" class=\"row_heading level0 row6\" >reside</th>\n",
       "                        <td id=\"T_a0cfe_row6_col0\" class=\"data row6 col0\" >8</td>\n",
       "                        <td id=\"T_a0cfe_row6_col1\" class=\"data row6 col1\" >0</td>\n",
       "                        <td id=\"T_a0cfe_row6_col2\" class=\"data row6 col2\" >int64</td>\n",
       "            </tr>\n",
       "            <tr>\n",
       "                        <th id=\"T_a0cfe_level0_row7\" class=\"row_heading level0 row7\" >employ</th>\n",
       "                        <td id=\"T_a0cfe_row7_col0\" class=\"data row7 col0\" >46</td>\n",
       "                        <td id=\"T_a0cfe_row7_col1\" class=\"data row7 col1\" >0</td>\n",
       "                        <td id=\"T_a0cfe_row7_col2\" class=\"data row7 col2\" >int64</td>\n",
       "            </tr>\n",
       "            <tr>\n",
       "                        <th id=\"T_a0cfe_level0_row8\" class=\"row_heading level0 row8\" >address</th>\n",
       "                        <td id=\"T_a0cfe_row8_col0\" class=\"data row8 col0\" >50</td>\n",
       "                        <td id=\"T_a0cfe_row8_col1\" class=\"data row8 col1\" >0</td>\n",
       "                        <td id=\"T_a0cfe_row8_col2\" class=\"data row8 col2\" >int64</td>\n",
       "            </tr>\n",
       "            <tr>\n",
       "                        <th id=\"T_a0cfe_level0_row9\" class=\"row_heading level0 row9\" >age</th>\n",
       "                        <td id=\"T_a0cfe_row9_col0\" class=\"data row9 col0\" >60</td>\n",
       "                        <td id=\"T_a0cfe_row9_col1\" class=\"data row9 col1\" >0</td>\n",
       "                        <td id=\"T_a0cfe_row9_col2\" class=\"data row9 col2\" >int64</td>\n",
       "            </tr>\n",
       "            <tr>\n",
       "                        <th id=\"T_a0cfe_level0_row10\" class=\"row_heading level0 row10\" >tenure</th>\n",
       "                        <td id=\"T_a0cfe_row10_col0\" class=\"data row10 col0\" >72</td>\n",
       "                        <td id=\"T_a0cfe_row10_col1\" class=\"data row10 col1\" >0</td>\n",
       "                        <td id=\"T_a0cfe_row10_col2\" class=\"data row10 col2\" >int64</td>\n",
       "            </tr>\n",
       "            <tr>\n",
       "                        <th id=\"T_a0cfe_level0_row11\" class=\"row_heading level0 row11\" >income</th>\n",
       "                        <td id=\"T_a0cfe_row11_col0\" class=\"data row11 col0\" >218</td>\n",
       "                        <td id=\"T_a0cfe_row11_col1\" class=\"data row11 col1\" >0</td>\n",
       "                        <td id=\"T_a0cfe_row11_col2\" class=\"data row11 col2\" >float64</td>\n",
       "            </tr>\n",
       "    </tbody></table>"
      ],
      "text/plain": [
       "<pandas.io.formats.style.Styler at 0x237f676c3d0>"
      ]
     },
     "execution_count": 9,
     "metadata": {},
     "output_type": "execute_result"
    }
   ],
   "source": [
    "df.nunique()\\\n",
    "    .rename('nunique')\\\n",
    "    .to_frame()\\\n",
    "    .join([df.isna().sum().rename('isna'),\n",
    "           df.dtypes.rename('type')])\\\n",
    "    .sort_values('nunique')\\\n",
    "    .style.bar()"
   ]
  },
  {
   "cell_type": "markdown",
   "id": "41bcc85f",
   "metadata": {},
   "source": [
    "Note: low cardinality categories below could be one-hot encoded to see if accuracy gains made on baseline model:\n",
    "['marital', 'retire', 'gender', 'region', 'ed', 'reside']"
   ]
  },
  {
   "cell_type": "code",
   "execution_count": 15,
   "id": "c240d28f",
   "metadata": {},
   "outputs": [
    {
     "name": "stdout",
     "output_type": "stream",
     "text": [
      "Features Distribution\n"
     ]
    },
    {
     "data": {
      "image/png": "[encoded data removed]",
      "text/plain": [
       "<Figure size 1440x1440 with 12 Axes>"
      ]
     },
     "metadata": {
      "needs_background": "light"
     },
     "output_type": "display_data"
    }
   ],
   "source": [
    "print(\"Features Distribution\")\n",
    "fig, axs = plt.subplots(ncols=3, nrows=4, figsize=(20,20))\n",
    "\n",
    "for col, ax in zip(df.loc[:, df.columns!='custcat'], axs.flat):\n",
    "    sns.histplot(data=df,\n",
    "                 x=col,\n",
    "                 stat='count',\n",
    "                 common_norm=False,\n",
    "                 ax=ax)"
   ]
  },
  {
   "cell_type": "markdown",
   "id": "900a9a9c",
   "metadata": {},
   "source": [
    "### Feature set and target"
   ]
  },
  {
   "cell_type": "code",
   "execution_count": 16,
   "id": "d1d7e7ad",
   "metadata": {},
   "outputs": [
    {
     "data": {
      "text/plain": [
       "array([[  2.,  13.,  44.,   1.,   9.,  64.,   4.,   5.,   0.,   0.,   2.],\n",
       "       [  3.,  11.,  33.,   1.,   7., 136.,   5.,   5.,   0.,   0.,   6.],\n",
       "       [  3.,  68.,  52.,   1.,  24., 116.,   1.,  29.,   0.,   1.,   2.],\n",
       "       [  2.,  33.,  33.,   0.,  12.,  33.,   2.,   0.,   0.,   1.,   1.],\n",
       "       [  2.,  23.,  30.,   1.,   9.,  30.,   1.,   2.,   0.,   0.,   4.]])"
      ]
     },
     "execution_count": 16,
     "metadata": {},
     "output_type": "execute_result"
    }
   ],
   "source": [
    "# convert to Numpy array\n",
    "X = np.asanyarray(df.loc[:, df.columns!='custcat'])  #.astype(float)\n",
    "X[0:5]"
   ]
  },
  {
   "cell_type": "code",
   "execution_count": 20,
   "id": "a9fd7d56",
   "metadata": {},
   "outputs": [
    {
     "data": {
      "text/plain": [
       "array([1, 4, 3, 1, 3], dtype=int64)"
      ]
     },
     "execution_count": 20,
     "metadata": {},
     "output_type": "execute_result"
    }
   ],
   "source": [
    "y = np.asanyarray(df['custcat'])\n",
    "y[0:5]"
   ]
  },
  {
   "cell_type": "markdown",
   "id": "bde9b0c1",
   "metadata": {},
   "source": [
    "### Normalize data"
   ]
  },
  {
   "cell_type": "code",
   "execution_count": 17,
   "id": "a63395df",
   "metadata": {},
   "outputs": [
    {
     "data": {
      "text/plain": [
       "array([[-0.02696767, -1.055125  ,  0.18450456,  1.0100505 , -0.25303431,\n",
       "        -0.12650641,  1.0877526 , -0.5941226 , -0.22207644, -1.03459817,\n",
       "        -0.23065004],\n",
       "       [ 1.19883553, -1.14880563, -0.69181243,  1.0100505 , -0.4514148 ,\n",
       "         0.54644972,  1.9062271 , -0.5941226 , -0.22207644, -1.03459817,\n",
       "         2.55666158],\n",
       "       [ 1.19883553,  1.52109247,  0.82182601,  1.0100505 ,  1.23481934,\n",
       "         0.35951747, -1.36767088,  1.78752803, -0.22207644,  0.96655883,\n",
       "        -0.23065004],\n",
       "       [-0.02696767, -0.11831864, -0.69181243, -0.9900495 ,  0.04453642,\n",
       "        -0.41625141, -0.54919639, -1.09029981, -0.22207644,  0.96655883,\n",
       "        -0.92747794],\n",
       "       [-0.02696767, -0.58672182, -0.93080797,  1.0100505 , -0.25303431,\n",
       "        -0.44429125, -1.36767088, -0.89182893, -0.22207644, -1.03459817,\n",
       "         1.16300577]])"
      ]
     },
     "execution_count": 17,
     "metadata": {},
     "output_type": "execute_result"
    }
   ],
   "source": [
    "X = preprocessing.StandardScaler().fit(X).transform(X.astype(float))\n",
    "X[0:5]"
   ]
  },
  {
   "cell_type": "markdown",
   "id": "0c8c6bf1",
   "metadata": {},
   "source": [
    "### Normalize data"
   ]
  },
  {
   "cell_type": "code",
   "execution_count": 21,
   "id": "7f02673c",
   "metadata": {},
   "outputs": [
    {
     "name": "stdout",
     "output_type": "stream",
     "text": [
      "Train set: (800, 11) (800,)\n",
      "Test set: (200, 11) (200,)\n"
     ]
    }
   ],
   "source": [
    "from sklearn.model_selection import train_test_split\n",
    "X_train, X_test, y_train, y_test = train_test_split( X, y, test_size=0.2, random_state=4)\n",
    "print ('Train set:', X_train.shape,  y_train.shape)\n",
    "print ('Test set:', X_test.shape,  y_test.shape)"
   ]
  },
  {
   "cell_type": "markdown",
   "id": "2b1148a8",
   "metadata": {},
   "source": [
    "## Classification"
   ]
  },
  {
   "cell_type": "code",
   "execution_count": 23,
   "id": "d88fe282",
   "metadata": {},
   "outputs": [],
   "source": [
    "from sklearn.neighbors import KNeighborsClassifier\n",
    "from sklearn import metrics"
   ]
  },
  {
   "cell_type": "markdown",
   "id": "485eac2b",
   "metadata": {},
   "source": [
    "#### Create Train, Test, Evaluate Accuracy function (take k as parameter)"
   ]
  },
  {
   "cell_type": "code",
   "execution_count": 37,
   "id": "adc0166a",
   "metadata": {},
   "outputs": [],
   "source": [
    "def train_test_acc(k, X_train, X_test, y_train, y_test):\n",
    "    # Train Model and Predict  \n",
    "    neigh = KNeighborsClassifier(n_neighbors = k).fit(X_train,y_train)\n",
    "    yhat = neigh.predict(X_test)\n",
    "    \n",
    "    # Evaluate accuracy\n",
    "    #train_set_acc = metrics.accuracy_score(y_train, neigh.predict(X_train))\n",
    "    test_set_acc = metrics.accuracy_score(y_test, yhat)\n",
    "    std_acc = np.std(yhat==y_test)/np.sqrt(yhat.shape[0])\n",
    "    \n",
    "    return (test_set_acc, std_acc)"
   ]
  },
  {
   "cell_type": "markdown",
   "id": "c181a523",
   "metadata": {},
   "source": [
    "#### Loop k-values to compare model accuracy"
   ]
  },
  {
   "cell_type": "code",
   "execution_count": 51,
   "id": "f5d3303d",
   "metadata": {},
   "outputs": [],
   "source": [
    "Ks = 20\n",
    "mean_acc = np.zeros((Ks-1))\n",
    "std_acc = np.zeros((Ks-1))\n",
    "\n",
    "for k in range(1,Ks):\n",
    "    \n",
    "    #Train Model and Predict  \n",
    "    mean_acc[k-1], std_acc[k-1] = train_test_acc(k, X_train, X_test, y_train, y_test)"
   ]
  },
  {
   "cell_type": "code",
   "execution_count": 52,
   "id": "c5c314e2",
   "metadata": {},
   "outputs": [
    {
     "data": {
      "text/plain": [
       "[0.3,\n",
       " 0.29,\n",
       " 0.315,\n",
       " 0.32,\n",
       " 0.315,\n",
       " 0.31,\n",
       " 0.335,\n",
       " 0.325,\n",
       " 0.34,\n",
       " 0.33,\n",
       " 0.315,\n",
       " 0.34,\n",
       " 0.33,\n",
       " 0.315,\n",
       " 0.34,\n",
       " 0.36,\n",
       " 0.355,\n",
       " 0.35,\n",
       " 0.345]"
      ]
     },
     "execution_count": 52,
     "metadata": {},
     "output_type": "execute_result"
    }
   ],
   "source": [
    "mean_acc.tolist()"
   ]
  },
  {
   "cell_type": "code",
   "execution_count": 53,
   "id": "2383547d",
   "metadata": {},
   "outputs": [
    {
     "data": {
      "image/png": "[encoded data removed]",
      "text/plain": [
       "<Figure size 432x288 with 1 Axes>"
      ]
     },
     "metadata": {
      "needs_background": "light"
     },
     "output_type": "display_data"
    }
   ],
   "source": [
    "# plot graph\n",
    "plt.plot(range(1,Ks),mean_acc,'g')\n",
    "plt.fill_between(range(1,Ks),mean_acc - 1 * std_acc,mean_acc + 1 * std_acc, alpha=0.10)\n",
    "plt.fill_between(range(1,Ks),mean_acc - 3 * std_acc,mean_acc + 3 * std_acc, alpha=0.10,color=\"green\")\n",
    "plt.legend(('Accuracy', '+/- 1xstd','+/- 3xstd'))\n",
    "plt.ylabel('Accuracy')\n",
    "plt.xlabel('Number of Neighbors (K)')\n",
    "plt.tight_layout()\n",
    "plt.show()"
   ]
  },
  {
   "cell_type": "code",
   "execution_count": 54,
   "id": "e01f7f73",
   "metadata": {},
   "outputs": [
    {
     "name": "stdout",
     "output_type": "stream",
     "text": [
      "The best accuracy was 0.36 with k= 16\n"
     ]
    }
   ],
   "source": [
    "print( \"The best accuracy was\", mean_acc.max(), \"with k=\", mean_acc.argmax()+1) "
   ]
  }
 ],
 "metadata": {
  "kernelspec": {
   "display_name": "Python 3",
   "language": "python",
   "name": "python3"
  },
  "language_info": {
   "codemirror_mode": {
    "name": "ipython",
    "version": 3
   },
   "file_extension": ".py",
   "mimetype": "text/x-python",
   "name": "python",
   "nbconvert_exporter": "python",
   "pygments_lexer": "ipython3",
   "version": "3.8.8"
  }
 },
 "nbformat": 4,
 "nbformat_minor": 5
}
